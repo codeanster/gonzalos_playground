{
 "cells": [
  {
   "cell_type": "code",
   "execution_count": 1,
   "metadata": {},
   "outputs": [
    {
     "name": "stderr",
     "output_type": "stream",
     "text": [
      "WARNING: AstropyDeprecationWarning: astropy.extern.six will be removed in 4.0, use the six module directly if it is still needed [astropy.extern.six]\n"
     ]
    }
   ],
   "source": [
    "from astroquery.vizier import Vizier\n",
    "import numpy as np\n",
    "import pyds9\n",
    "from glob import glob\n",
    "from astropy.io import fits\n",
    "from pyds9 import *\n",
    "from astropy import wcs\n",
    "import matplotlib.pyplot as plt\n",
    "import matplotlib.cbook as cbook\n",
    "from regions import read_ds9, write_ds9\n",
    "from regions import DS9Parser\n",
    "from regions import ds9_objects_to_string\n",
    "from astropy.coordinates import Angle, SkyCoord\n",
    "from regions import CircleSkyRegion\n",
    "import pandas as pd\n"
   ]
  },
  {
   "cell_type": "markdown",
   "metadata": {},
   "source": [
    "# This notebook will detect sources from a vizier catalogue  in a give file(s) using ds9.\n",
    "\n",
    "<b> This notebook must be run off the NRAO server <b>"
   ]
  },
  {
   "cell_type": "code",
   "execution_count": 2,
   "metadata": {},
   "outputs": [],
   "source": [
    "def pipeline(files,catalog='VIII/100/gleamegc'):\n",
    "    Vizier.ROW_LIMIT = -1\n",
    "    table = Vizier.get_catalogs(catalog='VIII/100/gleamegc')[0]\n",
    "    Gleam_ra = table['RAJ2000']\n",
    "    Gleam_dec = table['DEJ2000']\n",
    "    Gleam_flux = table['Fintwide']\n",
    "    \n",
    "    #define a ra/dec mask so only sources in mosaics are chosen\n",
    "    #I should edit this, seems like cuts arent very good...\n",
    "    deccuts , racuts, fluxmin = [-41,-21] , [0,161] , 3 #deg,deg,Jy\n",
    "    #create a mask for ra,dec and flux\n",
    "    w = []\n",
    "    for i in range(len(Gleam_dec)):\n",
    "        w.append((deccuts[0] < Gleam_dec[i] < deccuts[1]) & (racuts[0] < Gleam_ra[i] < racuts[1]) & (Gleam_flux[i] > fluxmin))\n",
    " \n",
    "    # #sources that fit our criteria\n",
    "    data = table[w]\n",
    "    Gleam_ra = data['RAJ2000']\n",
    "    Gleam_dec = data['DEJ2000']\n",
    "    Gleam_flux = data['Fintwide']\n",
    "    \n",
    "    \n",
    "    # #open an instance of ds9\n",
    "    ds9 = pyds9.DS9()\n",
    "    \n",
    "    for i in range(len(files)):\n",
    "        print(files[i] + ' .... done')\n",
    "        #opens wcs solutions in each header\n",
    "        hdu = fits.open(files[i],mode='readonly', ignore_missing_end=True)\n",
    "        imwcs = wcs.WCS(hdu[0].header)\n",
    "        \n",
    "        \n",
    "        #loads each file into ds9 and circles GLEAM SOURCES\n",
    "        hdu = fits.open(files[i],mode='readonly', ignore_missing_end=True)\n",
    "        ds9.set_pyfits(hdu)\n",
    "        ds9.set('frame {}'.format(i+1))\n",
    "        ds9.set('file {}'.format(files[i]))\n",
    "        ds9.set('scale zscale')\n",
    "        ds9.set('zoom to fit')\n",
    "        \n",
    "        # Applies wcs solutions to translate GLEAM positions to pixel values of fits image\n",
    "        refx,refy = imwcs.wcs_world2pix(Gleam_ra[:], Gleam_dec[:],0)  \n",
    "        for i in range(len(Gleam_dec)):\n",
    "            ds9.set('regions', 'image; circle {},{} {} #color = green'.format(refx[i],refy[i], 15))\n",
    "        \n",
    "    return print('Success! Matched a total of {} sources!'.format(len(refx))) \n",
    "\n",
    "    "
   ]
  },
  {
   "cell_type": "code",
   "execution_count": 3,
   "metadata": {},
   "outputs": [],
   "source": [
    "def pipeline(files,cat):\n",
    "    Vizier.ROW_LIMIT = -1\n",
    "    table = Vizier.get_catalogs(catalog=cat)[0]\n",
    "    Gleam_ra = table['RAJ2000']\n",
    "    Gleam_dec = table['DEJ2000']\n",
    "    Gleam_flux = table['Fintwide']\n",
    "    \n",
    "    \n",
    "    # #open an instance of ds9\n",
    "    ds9 = pyds9.DS9()\n",
    "    \n",
    "    # for i in range(len(files)):\n",
    "    print(files + ' .... done')\n",
    "    #opens wcs solutions in each header\n",
    "    hdu = fits.open(files[i],mode='readonly', ignore_missing_end=True)\n",
    "    imwcs = wcs.WCS(hdu[0].header)\n",
    "\n",
    "\n",
    "    #loads each file into ds9 and circles GLEAM SOURCES\n",
    "    hdu = fits.open(files[i],mode='readonly', ignore_missing_end=True)\n",
    "    ds9.set_pyfits(hdu)\n",
    "    ds9.set('frame {}'.format(1))\n",
    "    #ds9.set('file {}'.format(files))\n",
    "    ds9.set('scale zscale')\n",
    "    ds9.set('zoom to fit')\n",
    "\n",
    "    # Applies wcs solutions to translate GLEAM positions to pixel values of fits image\n",
    "    refx,refy = imwcs.wcs_world2pix(Gleam_ra[:], Gleam_dec[:],0)  \n",
    "    for i in range(len(Gleam_dec)):\n",
    "        ds9.set('regions', 'image; circle {},{} {} #color = green'.format(refx[i],refy[i], 15))\n",
    "\n",
    "    return print('Success! Matched a total of {} sources!'.format(len(refx))) \n",
    "\n",
    "    "
   ]
  },
  {
   "cell_type": "code",
   "execution_count": 4,
   "metadata": {},
   "outputs": [
    {
     "ename": "KeyboardInterrupt",
     "evalue": "",
     "output_type": "error",
     "traceback": [
      "\u001b[0;31m---------------------------------------------------------------------------\u001b[0m",
      "\u001b[0;31mKeyboardInterrupt\u001b[0m                         Traceback (most recent call last)",
      "\u001b[0;32m<ipython-input-4-167c3893ecce>\u001b[0m in \u001b[0;36m<module>\u001b[0;34m\u001b[0m\n\u001b[0;32m----> 1\u001b[0;31m \u001b[0mpipeline\u001b[0m\u001b[0;34m(\u001b[0m\u001b[0;34m'/home/gonzalo/astronomy_practice/Lynx_E_3.fits.gz'\u001b[0m\u001b[0;34m,\u001b[0m\u001b[0;34m'B/HST'\u001b[0m\u001b[0;34m)\u001b[0m\u001b[0;34m\u001b[0m\u001b[0;34m\u001b[0m\u001b[0m\n\u001b[0m",
      "\u001b[0;32m<ipython-input-3-2552ae384249>\u001b[0m in \u001b[0;36mpipeline\u001b[0;34m(files, cat)\u001b[0m\n\u001b[1;32m      1\u001b[0m \u001b[0;32mdef\u001b[0m \u001b[0mpipeline\u001b[0m\u001b[0;34m(\u001b[0m\u001b[0mfiles\u001b[0m\u001b[0;34m,\u001b[0m\u001b[0mcat\u001b[0m\u001b[0;34m)\u001b[0m\u001b[0;34m:\u001b[0m\u001b[0;34m\u001b[0m\u001b[0;34m\u001b[0m\u001b[0m\n\u001b[1;32m      2\u001b[0m     \u001b[0mVizier\u001b[0m\u001b[0;34m.\u001b[0m\u001b[0mROW_LIMIT\u001b[0m \u001b[0;34m=\u001b[0m \u001b[0;34m-\u001b[0m\u001b[0;36m1\u001b[0m\u001b[0;34m\u001b[0m\u001b[0;34m\u001b[0m\u001b[0m\n\u001b[0;32m----> 3\u001b[0;31m     \u001b[0mtable\u001b[0m \u001b[0;34m=\u001b[0m \u001b[0mVizier\u001b[0m\u001b[0;34m.\u001b[0m\u001b[0mget_catalogs\u001b[0m\u001b[0;34m(\u001b[0m\u001b[0mcatalog\u001b[0m\u001b[0;34m=\u001b[0m\u001b[0mcat\u001b[0m\u001b[0;34m)\u001b[0m\u001b[0;34m[\u001b[0m\u001b[0;36m0\u001b[0m\u001b[0;34m]\u001b[0m\u001b[0;34m\u001b[0m\u001b[0;34m\u001b[0m\u001b[0m\n\u001b[0m\u001b[1;32m      4\u001b[0m     \u001b[0mGleam_ra\u001b[0m \u001b[0;34m=\u001b[0m \u001b[0mtable\u001b[0m\u001b[0;34m[\u001b[0m\u001b[0;34m'RAJ2000'\u001b[0m\u001b[0;34m]\u001b[0m\u001b[0;34m\u001b[0m\u001b[0;34m\u001b[0m\u001b[0m\n\u001b[1;32m      5\u001b[0m     \u001b[0mGleam_dec\u001b[0m \u001b[0;34m=\u001b[0m \u001b[0mtable\u001b[0m\u001b[0;34m[\u001b[0m\u001b[0;34m'DEJ2000'\u001b[0m\u001b[0;34m]\u001b[0m\u001b[0;34m\u001b[0m\u001b[0;34m\u001b[0m\u001b[0m\n",
      "\u001b[0;32m~/anaconda3/envs/hera/lib/python3.7/site-packages/astroquery/utils/class_or_instance.py\u001b[0m in \u001b[0;36mf\u001b[0;34m(*args, **kwds)\u001b[0m\n\u001b[1;32m     23\u001b[0m         \u001b[0;32mdef\u001b[0m \u001b[0mf\u001b[0m\u001b[0;34m(\u001b[0m\u001b[0;34m*\u001b[0m\u001b[0margs\u001b[0m\u001b[0;34m,\u001b[0m \u001b[0;34m**\u001b[0m\u001b[0mkwds\u001b[0m\u001b[0;34m)\u001b[0m\u001b[0;34m:\u001b[0m\u001b[0;34m\u001b[0m\u001b[0;34m\u001b[0m\u001b[0m\n\u001b[1;32m     24\u001b[0m             \u001b[0;32mif\u001b[0m \u001b[0mobj\u001b[0m \u001b[0;32mis\u001b[0m \u001b[0;32mnot\u001b[0m \u001b[0;32mNone\u001b[0m\u001b[0;34m:\u001b[0m\u001b[0;34m\u001b[0m\u001b[0;34m\u001b[0m\u001b[0m\n\u001b[0;32m---> 25\u001b[0;31m                 \u001b[0;32mreturn\u001b[0m \u001b[0mself\u001b[0m\u001b[0;34m.\u001b[0m\u001b[0mfn\u001b[0m\u001b[0;34m(\u001b[0m\u001b[0mobj\u001b[0m\u001b[0;34m,\u001b[0m \u001b[0;34m*\u001b[0m\u001b[0margs\u001b[0m\u001b[0;34m,\u001b[0m \u001b[0;34m**\u001b[0m\u001b[0mkwds\u001b[0m\u001b[0;34m)\u001b[0m\u001b[0;34m\u001b[0m\u001b[0;34m\u001b[0m\u001b[0m\n\u001b[0m\u001b[1;32m     26\u001b[0m             \u001b[0;32melse\u001b[0m\u001b[0;34m:\u001b[0m\u001b[0;34m\u001b[0m\u001b[0;34m\u001b[0m\u001b[0m\n\u001b[1;32m     27\u001b[0m                 \u001b[0;32mreturn\u001b[0m \u001b[0mself\u001b[0m\u001b[0;34m.\u001b[0m\u001b[0mfn\u001b[0m\u001b[0;34m(\u001b[0m\u001b[0mcls\u001b[0m\u001b[0;34m,\u001b[0m \u001b[0;34m*\u001b[0m\u001b[0margs\u001b[0m\u001b[0;34m,\u001b[0m \u001b[0;34m**\u001b[0m\u001b[0mkwds\u001b[0m\u001b[0;34m)\u001b[0m\u001b[0;34m\u001b[0m\u001b[0;34m\u001b[0m\u001b[0m\n",
      "\u001b[0;32m~/anaconda3/envs/hera/lib/python3.7/site-packages/astroquery/utils/process_asyncs.py\u001b[0m in \u001b[0;36mnewmethod\u001b[0;34m(self, *args, **kwargs)\u001b[0m\n\u001b[1;32m     27\u001b[0m             \u001b[0;32mif\u001b[0m \u001b[0mkwargs\u001b[0m\u001b[0;34m.\u001b[0m\u001b[0mget\u001b[0m\u001b[0;34m(\u001b[0m\u001b[0;34m'get_query_payload'\u001b[0m\u001b[0;34m)\u001b[0m \u001b[0;32mor\u001b[0m \u001b[0mkwargs\u001b[0m\u001b[0;34m.\u001b[0m\u001b[0mget\u001b[0m\u001b[0;34m(\u001b[0m\u001b[0;34m'field_help'\u001b[0m\u001b[0;34m)\u001b[0m\u001b[0;34m:\u001b[0m\u001b[0;34m\u001b[0m\u001b[0;34m\u001b[0m\u001b[0m\n\u001b[1;32m     28\u001b[0m                 \u001b[0;32mreturn\u001b[0m \u001b[0mresponse\u001b[0m\u001b[0;34m\u001b[0m\u001b[0;34m\u001b[0m\u001b[0m\n\u001b[0;32m---> 29\u001b[0;31m             \u001b[0mresult\u001b[0m \u001b[0;34m=\u001b[0m \u001b[0mself\u001b[0m\u001b[0;34m.\u001b[0m\u001b[0m_parse_result\u001b[0m\u001b[0;34m(\u001b[0m\u001b[0mresponse\u001b[0m\u001b[0;34m,\u001b[0m \u001b[0mverbose\u001b[0m\u001b[0;34m=\u001b[0m\u001b[0mverbose\u001b[0m\u001b[0;34m)\u001b[0m\u001b[0;34m\u001b[0m\u001b[0;34m\u001b[0m\u001b[0m\n\u001b[0m\u001b[1;32m     30\u001b[0m             \u001b[0mself\u001b[0m\u001b[0;34m.\u001b[0m\u001b[0mtable\u001b[0m \u001b[0;34m=\u001b[0m \u001b[0mresult\u001b[0m\u001b[0;34m\u001b[0m\u001b[0;34m\u001b[0m\u001b[0m\n\u001b[1;32m     31\u001b[0m             \u001b[0;32mreturn\u001b[0m \u001b[0mresult\u001b[0m\u001b[0;34m\u001b[0m\u001b[0;34m\u001b[0m\u001b[0m\n",
      "\u001b[0;32m~/anaconda3/envs/hera/lib/python3.7/site-packages/astroquery/vizier/core.py\u001b[0m in \u001b[0;36m_parse_result\u001b[0;34m(self, response, get_catalog_names, verbose, invalid)\u001b[0m\n\u001b[1;32m    640\u001b[0m                 return parse_vizier_votable(\n\u001b[1;32m    641\u001b[0m                     \u001b[0mresponse\u001b[0m\u001b[0;34m.\u001b[0m\u001b[0mcontent\u001b[0m\u001b[0;34m,\u001b[0m \u001b[0mverbose\u001b[0m\u001b[0;34m=\u001b[0m\u001b[0mverbose\u001b[0m\u001b[0;34m,\u001b[0m \u001b[0minvalid\u001b[0m\u001b[0;34m=\u001b[0m\u001b[0minvalid\u001b[0m\u001b[0;34m,\u001b[0m\u001b[0;34m\u001b[0m\u001b[0;34m\u001b[0m\u001b[0m\n\u001b[0;32m--> 642\u001b[0;31m                     get_catalog_names=get_catalog_names)\n\u001b[0m\u001b[1;32m    643\u001b[0m             \u001b[0;32mexcept\u001b[0m \u001b[0mException\u001b[0m \u001b[0;32mas\u001b[0m \u001b[0mex\u001b[0m\u001b[0;34m:\u001b[0m\u001b[0;34m\u001b[0m\u001b[0;34m\u001b[0m\u001b[0m\n\u001b[1;32m    644\u001b[0m                 \u001b[0mself\u001b[0m\u001b[0;34m.\u001b[0m\u001b[0mresponse\u001b[0m \u001b[0;34m=\u001b[0m \u001b[0mresponse\u001b[0m\u001b[0;34m\u001b[0m\u001b[0;34m\u001b[0m\u001b[0m\n",
      "\u001b[0;32m~/anaconda3/envs/hera/lib/python3.7/site-packages/astroquery/vizier/core.py\u001b[0m in \u001b[0;36mparse_vizier_votable\u001b[0;34m(data, verbose, invalid, get_catalog_names)\u001b[0m\n\u001b[1;32m    706\u001b[0m     \u001b[0;32melif\u001b[0m \u001b[0minvalid\u001b[0m \u001b[0;34m==\u001b[0m \u001b[0;34m'warn'\u001b[0m\u001b[0;34m:\u001b[0m\u001b[0;34m\u001b[0m\u001b[0;34m\u001b[0m\u001b[0m\n\u001b[1;32m    707\u001b[0m         \u001b[0;32mtry\u001b[0m\u001b[0;34m:\u001b[0m\u001b[0;34m\u001b[0m\u001b[0;34m\u001b[0m\u001b[0m\n\u001b[0;32m--> 708\u001b[0;31m             \u001b[0mvo_tree\u001b[0m \u001b[0;34m=\u001b[0m \u001b[0mvotable\u001b[0m\u001b[0;34m.\u001b[0m\u001b[0mparse\u001b[0m\u001b[0;34m(\u001b[0m\u001b[0mtf\u001b[0m\u001b[0;34m,\u001b[0m \u001b[0mpedantic\u001b[0m\u001b[0;34m=\u001b[0m\u001b[0;32mFalse\u001b[0m\u001b[0;34m,\u001b[0m \u001b[0minvalid\u001b[0m\u001b[0;34m=\u001b[0m\u001b[0;34m'exception'\u001b[0m\u001b[0;34m)\u001b[0m\u001b[0;34m\u001b[0m\u001b[0;34m\u001b[0m\u001b[0m\n\u001b[0m\u001b[1;32m    709\u001b[0m         \u001b[0;32mexcept\u001b[0m \u001b[0mException\u001b[0m \u001b[0;32mas\u001b[0m \u001b[0mex\u001b[0m\u001b[0;34m:\u001b[0m\u001b[0;34m\u001b[0m\u001b[0;34m\u001b[0m\u001b[0m\n\u001b[1;32m    710\u001b[0m             \u001b[0mwarnings\u001b[0m\u001b[0;34m.\u001b[0m\u001b[0mwarn\u001b[0m\u001b[0;34m(\u001b[0m\u001b[0;34m\"VOTABLE parsing raised exception: {0}\"\u001b[0m\u001b[0;34m.\u001b[0m\u001b[0mformat\u001b[0m\u001b[0;34m(\u001b[0m\u001b[0mex\u001b[0m\u001b[0;34m)\u001b[0m\u001b[0;34m)\u001b[0m\u001b[0;34m\u001b[0m\u001b[0;34m\u001b[0m\u001b[0m\n",
      "\u001b[0;32m~/anaconda3/envs/hera/lib/python3.7/site-packages/astropy/io/votable/table.py\u001b[0m in \u001b[0;36mparse\u001b[0;34m(source, columns, invalid, pedantic, chunk_size, table_number, table_id, filename, unit_format, datatype_mapping, _debug_python_based_parser)\u001b[0m\n\u001b[1;32m    135\u001b[0m             _debug_python_based_parser=_debug_python_based_parser) as iterator:\n\u001b[1;32m    136\u001b[0m         return tree.VOTableFile(\n\u001b[0;32m--> 137\u001b[0;31m             config=config, pos=(1, 1)).parse(iterator, config)\n\u001b[0m\u001b[1;32m    138\u001b[0m \u001b[0;34m\u001b[0m\u001b[0m\n\u001b[1;32m    139\u001b[0m \u001b[0;34m\u001b[0m\u001b[0m\n",
      "\u001b[0;32m~/anaconda3/envs/hera/lib/python3.7/site-packages/astropy/io/votable/tree.py\u001b[0m in \u001b[0;36mparse\u001b[0;34m(self, iterator, config)\u001b[0m\n\u001b[1;32m   3391\u001b[0m             \u001b[0;32mif\u001b[0m \u001b[0mstart\u001b[0m\u001b[0;34m:\u001b[0m\u001b[0;34m\u001b[0m\u001b[0;34m\u001b[0m\u001b[0m\n\u001b[1;32m   3392\u001b[0m                 tag_mapping.get(tag, self._add_unknown_tag)(\n\u001b[0;32m-> 3393\u001b[0;31m                     iterator, tag, data, config, pos)\n\u001b[0m\u001b[1;32m   3394\u001b[0m             \u001b[0;32melif\u001b[0m \u001b[0mtag\u001b[0m \u001b[0;34m==\u001b[0m \u001b[0;34m'DESCRIPTION'\u001b[0m\u001b[0;34m:\u001b[0m\u001b[0;34m\u001b[0m\u001b[0;34m\u001b[0m\u001b[0m\n\u001b[1;32m   3395\u001b[0m                 \u001b[0;32mif\u001b[0m \u001b[0mself\u001b[0m\u001b[0;34m.\u001b[0m\u001b[0mdescription\u001b[0m \u001b[0;32mis\u001b[0m \u001b[0;32mnot\u001b[0m \u001b[0;32mNone\u001b[0m\u001b[0;34m:\u001b[0m\u001b[0;34m\u001b[0m\u001b[0;34m\u001b[0m\u001b[0m\n",
      "\u001b[0;32m~/anaconda3/envs/hera/lib/python3.7/site-packages/astropy/io/votable/tree.py\u001b[0m in \u001b[0;36m_add_resource\u001b[0;34m(self, iterator, tag, data, config, pos)\u001b[0m\n\u001b[1;32m   3320\u001b[0m         \u001b[0mresource\u001b[0m \u001b[0;34m=\u001b[0m \u001b[0mResource\u001b[0m\u001b[0;34m(\u001b[0m\u001b[0mconfig\u001b[0m\u001b[0;34m=\u001b[0m\u001b[0mconfig\u001b[0m\u001b[0;34m,\u001b[0m \u001b[0mpos\u001b[0m\u001b[0;34m=\u001b[0m\u001b[0mpos\u001b[0m\u001b[0;34m,\u001b[0m \u001b[0;34m**\u001b[0m\u001b[0mdata\u001b[0m\u001b[0;34m)\u001b[0m\u001b[0;34m\u001b[0m\u001b[0;34m\u001b[0m\u001b[0m\n\u001b[1;32m   3321\u001b[0m         \u001b[0mself\u001b[0m\u001b[0;34m.\u001b[0m\u001b[0mresources\u001b[0m\u001b[0;34m.\u001b[0m\u001b[0mappend\u001b[0m\u001b[0;34m(\u001b[0m\u001b[0mresource\u001b[0m\u001b[0;34m)\u001b[0m\u001b[0;34m\u001b[0m\u001b[0;34m\u001b[0m\u001b[0m\n\u001b[0;32m-> 3322\u001b[0;31m         \u001b[0mresource\u001b[0m\u001b[0;34m.\u001b[0m\u001b[0mparse\u001b[0m\u001b[0;34m(\u001b[0m\u001b[0mself\u001b[0m\u001b[0;34m,\u001b[0m \u001b[0miterator\u001b[0m\u001b[0;34m,\u001b[0m \u001b[0mconfig\u001b[0m\u001b[0;34m)\u001b[0m\u001b[0;34m\u001b[0m\u001b[0;34m\u001b[0m\u001b[0m\n\u001b[0m\u001b[1;32m   3323\u001b[0m \u001b[0;34m\u001b[0m\u001b[0m\n\u001b[1;32m   3324\u001b[0m     \u001b[0;32mdef\u001b[0m \u001b[0m_add_coosys\u001b[0m\u001b[0;34m(\u001b[0m\u001b[0mself\u001b[0m\u001b[0;34m,\u001b[0m \u001b[0miterator\u001b[0m\u001b[0;34m,\u001b[0m \u001b[0mtag\u001b[0m\u001b[0;34m,\u001b[0m \u001b[0mdata\u001b[0m\u001b[0;34m,\u001b[0m \u001b[0mconfig\u001b[0m\u001b[0;34m,\u001b[0m \u001b[0mpos\u001b[0m\u001b[0;34m)\u001b[0m\u001b[0;34m:\u001b[0m\u001b[0;34m\u001b[0m\u001b[0;34m\u001b[0m\u001b[0m\n",
      "\u001b[0;32m~/anaconda3/envs/hera/lib/python3.7/site-packages/astropy/io/votable/tree.py\u001b[0m in \u001b[0;36mparse\u001b[0;34m(self, votable, iterator, config)\u001b[0m\n\u001b[1;32m   3142\u001b[0m             \u001b[0;32mif\u001b[0m \u001b[0mstart\u001b[0m\u001b[0;34m:\u001b[0m\u001b[0;34m\u001b[0m\u001b[0;34m\u001b[0m\u001b[0m\n\u001b[1;32m   3143\u001b[0m                 tag_mapping.get(tag, self._add_unknown_tag)(\n\u001b[0;32m-> 3144\u001b[0;31m                     iterator, tag, data, config, pos)\n\u001b[0m\u001b[1;32m   3145\u001b[0m             \u001b[0;32melif\u001b[0m \u001b[0mtag\u001b[0m \u001b[0;34m==\u001b[0m \u001b[0;34m'DESCRIPTION'\u001b[0m\u001b[0;34m:\u001b[0m\u001b[0;34m\u001b[0m\u001b[0;34m\u001b[0m\u001b[0m\n\u001b[1;32m   3146\u001b[0m                 \u001b[0;32mif\u001b[0m \u001b[0mself\u001b[0m\u001b[0;34m.\u001b[0m\u001b[0mdescription\u001b[0m \u001b[0;32mis\u001b[0m \u001b[0;32mnot\u001b[0m \u001b[0;32mNone\u001b[0m\u001b[0;34m:\u001b[0m\u001b[0;34m\u001b[0m\u001b[0;34m\u001b[0m\u001b[0m\n",
      "\u001b[0;32m~/anaconda3/envs/hera/lib/python3.7/site-packages/astropy/io/votable/tree.py\u001b[0m in \u001b[0;36m_add_table\u001b[0;34m(self, iterator, tag, data, config, pos)\u001b[0m\n\u001b[1;32m   3093\u001b[0m         \u001b[0mtable\u001b[0m \u001b[0;34m=\u001b[0m \u001b[0mTable\u001b[0m\u001b[0;34m(\u001b[0m\u001b[0mself\u001b[0m\u001b[0;34m.\u001b[0m\u001b[0m_votable\u001b[0m\u001b[0;34m,\u001b[0m \u001b[0mconfig\u001b[0m\u001b[0;34m=\u001b[0m\u001b[0mconfig\u001b[0m\u001b[0;34m,\u001b[0m \u001b[0mpos\u001b[0m\u001b[0;34m=\u001b[0m\u001b[0mpos\u001b[0m\u001b[0;34m,\u001b[0m \u001b[0;34m**\u001b[0m\u001b[0mdata\u001b[0m\u001b[0;34m)\u001b[0m\u001b[0;34m\u001b[0m\u001b[0;34m\u001b[0m\u001b[0m\n\u001b[1;32m   3094\u001b[0m         \u001b[0mself\u001b[0m\u001b[0;34m.\u001b[0m\u001b[0mtables\u001b[0m\u001b[0;34m.\u001b[0m\u001b[0mappend\u001b[0m\u001b[0;34m(\u001b[0m\u001b[0mtable\u001b[0m\u001b[0;34m)\u001b[0m\u001b[0;34m\u001b[0m\u001b[0;34m\u001b[0m\u001b[0m\n\u001b[0;32m-> 3095\u001b[0;31m         \u001b[0mtable\u001b[0m\u001b[0;34m.\u001b[0m\u001b[0mparse\u001b[0m\u001b[0;34m(\u001b[0m\u001b[0miterator\u001b[0m\u001b[0;34m,\u001b[0m \u001b[0mconfig\u001b[0m\u001b[0;34m)\u001b[0m\u001b[0;34m\u001b[0m\u001b[0;34m\u001b[0m\u001b[0m\n\u001b[0m\u001b[1;32m   3096\u001b[0m \u001b[0;34m\u001b[0m\u001b[0m\n\u001b[1;32m   3097\u001b[0m     \u001b[0;32mdef\u001b[0m \u001b[0m_add_info\u001b[0m\u001b[0;34m(\u001b[0m\u001b[0mself\u001b[0m\u001b[0;34m,\u001b[0m \u001b[0miterator\u001b[0m\u001b[0;34m,\u001b[0m \u001b[0mtag\u001b[0m\u001b[0;34m,\u001b[0m \u001b[0mdata\u001b[0m\u001b[0;34m,\u001b[0m \u001b[0mconfig\u001b[0m\u001b[0;34m,\u001b[0m \u001b[0mpos\u001b[0m\u001b[0;34m)\u001b[0m\u001b[0;34m:\u001b[0m\u001b[0;34m\u001b[0m\u001b[0;34m\u001b[0m\u001b[0m\n",
      "\u001b[0;32m~/anaconda3/envs/hera/lib/python3.7/site-packages/astropy/io/votable/tree.py\u001b[0m in \u001b[0;36mparse\u001b[0;34m(self, iterator, config)\u001b[0m\n\u001b[1;32m   2383\u001b[0m                             'TABLEDATA', data.keys(), config, pos)\n\u001b[1;32m   2384\u001b[0m                         self.array = self._parse_tabledata(\n\u001b[0;32m-> 2385\u001b[0;31m                             iterator, colnumbers, fields, config)\n\u001b[0m\u001b[1;32m   2386\u001b[0m                         \u001b[0;32mbreak\u001b[0m\u001b[0;34m\u001b[0m\u001b[0;34m\u001b[0m\u001b[0m\n\u001b[1;32m   2387\u001b[0m                     \u001b[0;32melif\u001b[0m \u001b[0mtag\u001b[0m \u001b[0;34m==\u001b[0m \u001b[0;34m'BINARY'\u001b[0m\u001b[0;34m:\u001b[0m\u001b[0;34m\u001b[0m\u001b[0;34m\u001b[0m\u001b[0m\n",
      "\u001b[0;32m~/anaconda3/envs/hera/lib/python3.7/site-packages/astropy/io/votable/tree.py\u001b[0m in \u001b[0;36m_parse_tabledata\u001b[0;34m(self, iterator, colnumbers, fields, config)\u001b[0m\n\u001b[1;32m   2460\u001b[0m                 \u001b[0mrow_mask\u001b[0m \u001b[0;34m=\u001b[0m \u001b[0mmask_default\u001b[0m\u001b[0;34m[\u001b[0m\u001b[0;34m:\u001b[0m\u001b[0;34m]\u001b[0m\u001b[0;34m\u001b[0m\u001b[0;34m\u001b[0m\u001b[0m\n\u001b[1;32m   2461\u001b[0m                 \u001b[0mi\u001b[0m \u001b[0;34m=\u001b[0m \u001b[0;36m0\u001b[0m\u001b[0;34m\u001b[0m\u001b[0;34m\u001b[0m\u001b[0m\n\u001b[0;32m-> 2462\u001b[0;31m                 \u001b[0;32mfor\u001b[0m \u001b[0mstart\u001b[0m\u001b[0;34m,\u001b[0m \u001b[0mtag\u001b[0m\u001b[0;34m,\u001b[0m \u001b[0mdata\u001b[0m\u001b[0;34m,\u001b[0m \u001b[0mpos\u001b[0m \u001b[0;32min\u001b[0m \u001b[0miterator\u001b[0m\u001b[0;34m:\u001b[0m\u001b[0;34m\u001b[0m\u001b[0;34m\u001b[0m\u001b[0m\n\u001b[0m\u001b[1;32m   2463\u001b[0m                     \u001b[0;32mif\u001b[0m \u001b[0mstart\u001b[0m\u001b[0;34m:\u001b[0m\u001b[0;34m\u001b[0m\u001b[0;34m\u001b[0m\u001b[0m\n\u001b[1;32m   2464\u001b[0m                         \u001b[0mbinary\u001b[0m \u001b[0;34m=\u001b[0m \u001b[0;34m(\u001b[0m\u001b[0mdata\u001b[0m\u001b[0;34m.\u001b[0m\u001b[0mget\u001b[0m\u001b[0;34m(\u001b[0m\u001b[0;34m'encoding'\u001b[0m\u001b[0;34m,\u001b[0m \u001b[0;32mNone\u001b[0m\u001b[0;34m)\u001b[0m \u001b[0;34m==\u001b[0m \u001b[0;34m'base64'\u001b[0m\u001b[0;34m)\u001b[0m\u001b[0;34m\u001b[0m\u001b[0;34m\u001b[0m\u001b[0m\n",
      "\u001b[0;31mKeyboardInterrupt\u001b[0m: "
     ]
    }
   ],
   "source": [
    "pipeline('/home/gonzalo/astronomy_practice/Lynx_E_3.fits.gz','B/HST')"
   ]
  },
  {
   "cell_type": "code",
   "execution_count": null,
   "metadata": {},
   "outputs": [],
   "source": []
  },
  {
   "cell_type": "code",
   "execution_count": 3,
   "metadata": {},
   "outputs": [],
   "source": [
    "deccuts , racuts, fluxmin = [-41,-21] , [0,161] , 3 #deg,deg,Jy\n",
    "data = pd.read_csv('/home/gonzalo/Documents/LENC.csv')\n",
    "ra = data['RA']\n",
    "dec = data['DEC']\n",
    "ds9 = pyds9.DS9()\n",
    "#opens wcs solutions in each header\n",
    "\n",
    "\n",
    "stokesI_hdu = fits.open('/home/gonzalo/Desktop/polarizedmastermaps/mastermapbeamcorInewd.fits')\n",
    "stokesQ_hdu = fits.open('/home/gonzalo/Desktop/polarizedmastermaps/mastermapbeamcorQnewd.fits')\n",
    "stokesU_hdu = fits.open('/home/gonzalo/Desktop/polarizedmastermaps/mastermapbeamcorUnewd.fits')\n",
    "stokesV_hdu = fits.open('/home/gonzalo/Desktop/polarizedmastermaps/mastermapbeamcorVnewd.fits')\n",
    "imwcs = wcs.WCS(stokesI_hdu[0].header)\n",
    "refx,refy = imwcs.wcs_world2pix(ra, dec,0)  \n",
    "\n",
    "\n",
    "ds9.set_pyfits(stokesI_hdu)\n",
    "ds9.set('frame {}'.format(1))\n",
    "ds9.set('file {}'.format('/home/gonzalo/Desktop/polarizedmastermaps/mastermapbeamcorInewd.fits'))\n",
    "ds9.set('scale zscale')\n",
    "ds9.set('zoom to fit')\n",
    "for i in range(len(ra)):\n",
    "    ds9.set('regions', 'image; circle {},{} {} #color = green'.format(refx[i],refy[i], 15))\n",
    "\n",
    "ds9.set_pyfits(stokesQ_hdu)   \n",
    "ds9.set('frame {}'.format(2))\n",
    "ds9.set('file {}'.format('/home/gonzalo/Desktop/polarizedmastermaps/mastermapbeamcorQnewd.fits'))\n",
    "ds9.set('scale zscale')\n",
    "ds9.set('zoom to fit')\n",
    "for i in range(len(ra)):\n",
    "    ds9.set('regions', 'image; circle {},{} {} #color = green'.format(refx[i],refy[i], 15))\n",
    "\n",
    "ds9.set_pyfits(stokesU_hdu)    \n",
    "ds9.set('frame {}'.format(3))\n",
    "ds9.set('file {}'.format('/home/gonzalo/Desktop/polarizedmastermaps/mastermapbeamcorUnewd.fits'))\n",
    "ds9.set('scale zscale')\n",
    "ds9.set('zoom to fit')\n",
    "for i in range(len(ra)):\n",
    "    ds9.set('regions', 'image; circle {},{} {} #color = green'.format(refx[i],refy[i], 15))\n",
    "\n",
    "ds9.set_pyfits(stokesV_hdu)\n",
    "ds9.set('frame {}'.format(4))\n",
    "ds9.set('file {}'.format('/home/gonzalo/Desktop/polarizedmastermaps/mastermapbeamcorVnewd.fits'))\n",
    "ds9.set('scale zscale')\n",
    "ds9.set('zoom to fit')\n",
    "for i in range(len(ra)):\n",
    "    ds9.set('regions', 'image; circle {},{} {} #color = green'.format(refx[i],refy[i], 15))\n",
    "# Applies wcs solutions to translate GLEAM positions to pixel values of fits image\n",
    "\n"
   ]
  },
  {
   "cell_type": "code",
   "execution_count": 4,
   "metadata": {
    "scrolled": true
   },
   "outputs": [],
   "source": [
    "#%%time\n",
    "#here I specify the mosaiced fits files i want to use for the \"pipeline\"\n",
    "#files = sorted(glob('masterpmaps/*.fits'))\n",
    "#files = glob('/home/gonzalo/Desktop/polarizedmastermaps/*newd.fits')\n",
    "#pipeline(files)"
   ]
  },
  {
   "cell_type": "code",
   "execution_count": 5,
   "metadata": {},
   "outputs": [],
   "source": [
    "#what if i caclculate the flux of each gleam source using photo.utils\n",
    "#and look to see which sources appear polarised but may not appear in\n",
    "#different types of polarisations"
   ]
  },
  {
   "cell_type": "code",
   "execution_count": 6,
   "metadata": {},
   "outputs": [],
   "source": [
    "#Assuming the faintest energy burst is about 10^31 erg and lasts for \n",
    "#10 minutes\n",
    "energy_burst = 10e31 #in erg\n",
    "time = 600 #in seconds\n",
    "\n",
    "#1e7 erg / second conversion to watt\n",
    "Luminosity = (energy_burst / time) * 1e-7\n",
    "\n",
    "Frequency = 150e6 #150 Mhz\n",
    "distance = 4.629e17 #meters in 15 pc\n",
    "\n",
    "#this is in W/hz/m^2\n",
    "flux = Luminosity / (4 * np.pi * Frequency * distance**2)\n",
    "\n",
    "#to janksy conversion, 1e-23 W/hz/m^2 for 1 Jy\n",
    "mjanksy_flux = (flux / 1e-23) * 1e3"
   ]
  },
  {
   "cell_type": "code",
   "execution_count": null,
   "metadata": {},
   "outputs": [],
   "source": []
  }
 ],
 "metadata": {
  "kernelspec": {
   "display_name": "Python 3",
   "language": "python",
   "name": "python3"
  },
  "language_info": {
   "codemirror_mode": {
    "name": "ipython",
    "version": 3
   },
   "file_extension": ".py",
   "mimetype": "text/x-python",
   "name": "python",
   "nbconvert_exporter": "python",
   "pygments_lexer": "ipython3",
   "version": "3.7.3"
  }
 },
 "nbformat": 4,
 "nbformat_minor": 2
}
