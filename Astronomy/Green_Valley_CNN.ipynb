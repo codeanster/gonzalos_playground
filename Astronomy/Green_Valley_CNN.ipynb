{
  "nbformat": 4,
  "nbformat_minor": 0,
  "metadata": {
    "colab": {
      "name": "Green_Valley_CNN.ipynb",
      "provenance": [],
      "collapsed_sections": [],
      "mount_file_id": "1xvEFDcndrq7PNVJCgcCBvs5ZguX-7EJA",
      "authorship_tag": "ABX9TyMTE6RnVYr4o5PiOy/luL1f",
      "include_colab_link": true
    },
    "kernelspec": {
      "name": "python3",
      "display_name": "Python 3"
    },
    "accelerator": "GPU"
  },
  "cells": [
    {
      "cell_type": "markdown",
      "metadata": {
        "id": "view-in-github",
        "colab_type": "text"
      },
      "source": [
        "<a href=\"https://colab.research.google.com/github/codeanster/gonzalos_playground/blob/master/Astronomy/Green_Valley_CNN.ipynb\" target=\"_parent\"><img src=\"https://colab.research.google.com/assets/colab-badge.svg\" alt=\"Open In Colab\"/></a>"
      ]
    },
    {
      "cell_type": "code",
      "metadata": {
        "id": "oghKut_wnL4L"
      },
      "source": [
        "import tensorflow as tf\r\n",
        "import pandas as pd\r\n",
        "import numpy as np\r\n",
        "from sklearn.model_selection import train_test_split\r\n",
        "from sklearn.preprocessing import StandardScaler\r\n",
        "import matplotlib.pyplot as plt\r\n",
        "from keras.preprocessing.image import ImageDataGenerator"
      ],
      "execution_count": 24,
      "outputs": []
    },
    {
      "cell_type": "code",
      "metadata": {
        "colab": {
          "base_uri": "https://localhost:8080/"
        },
        "id": "fwk_e5Q0WjSd",
        "outputId": "d9e3fedf-90d4-4ab9-f502-77adf6df4ff0"
      },
      "source": [
        "train_datagen = ImageDataGenerator(rescale = 1./255,\r\n",
        "                                   shear_range = 0.2,\r\n",
        "                                   zoom_range = 0.2,\r\n",
        "                                   horizontal_flip = True)\r\n",
        "training_set = train_datagen.flow_from_directory('/content/drive/MyDrive/Green_valley_images/dataset/training_set',\r\n",
        "                                                 target_size = (256, 256),\r\n",
        "                                                 batch_size = 32,\r\n",
        "                                                 class_mode = 'binary')\r\n",
        "\r\n",
        "test_datagen = ImageDataGenerator(rescale = 1./255)\r\n",
        "test_set = test_datagen.flow_from_directory('/content/drive/MyDrive/Green_valley_images/dataset/test_set',\r\n",
        "                                            target_size = (256, 256),\r\n",
        "                                            batch_size = 32,\r\n",
        "                                            class_mode = 'binary')"
      ],
      "execution_count": 52,
      "outputs": [
        {
          "output_type": "stream",
          "text": [
            "Found 363 images belonging to 4 classes.\n",
            "Found 68 images belonging to 4 classes.\n"
          ],
          "name": "stdout"
        }
      ]
    },
    {
      "cell_type": "code",
      "metadata": {
        "id": "1XaDdwrVgInC"
      },
      "source": [
        "learning_rate = 0.00001"
      ],
      "execution_count": 53,
      "outputs": []
    },
    {
      "cell_type": "code",
      "metadata": {
        "colab": {
          "base_uri": "https://localhost:8080/"
        },
        "id": "Tc3SudA3Z_VS",
        "outputId": "998f8b8d-3a00-4335-9ffd-c5de411517e5"
      },
      "source": [
        "cnn = tf.keras.models.Sequential()\r\n",
        "cnn.add(tf.keras.layers.Conv2D(filters=32, kernel_size=3, activation='relu', input_shape=[256, 256, 3]))\r\n",
        "cnn.add(tf.keras.layers.MaxPool2D(pool_size=2, strides=2))\r\n",
        "cnn.add(tf.keras.layers.Conv2D(filters=32, kernel_size=3, activation='relu'))\r\n",
        "cnn.add(tf.keras.layers.MaxPool2D(pool_size=2, strides=2))\r\n",
        "cnn.add(tf.keras.layers.Flatten())\r\n",
        "cnn.add(tf.keras.layers.Dense(units=4, activation='softmax'))\r\n",
        "cnn.compile(optimizer = 'adam', loss = 'sparse_categorical_crossentropy', metrics = ['accuracy'])\r\n",
        "cnn.optimizer.lr = learning_rate\r\n",
        "r = cnn.fit(x = training_set,validation_data = test_set, epochs = 25)"
      ],
      "execution_count": 54,
      "outputs": [
        {
          "output_type": "stream",
          "text": [
            "Epoch 1/25\n",
            "12/12 [==============================] - 10s 815ms/step - loss: 1.0292 - accuracy: 0.7332 - val_loss: 1.2591 - val_accuracy: 0.5294\n",
            "Epoch 2/25\n",
            "12/12 [==============================] - 9s 740ms/step - loss: 0.8858 - accuracy: 0.7366 - val_loss: 1.3093 - val_accuracy: 0.5294\n",
            "Epoch 3/25\n",
            "12/12 [==============================] - 9s 732ms/step - loss: 0.8556 - accuracy: 0.7405 - val_loss: 1.2191 - val_accuracy: 0.5294\n",
            "Epoch 4/25\n",
            "12/12 [==============================] - 9s 733ms/step - loss: 0.8778 - accuracy: 0.7208 - val_loss: 1.1833 - val_accuracy: 0.5294\n",
            "Epoch 5/25\n",
            "12/12 [==============================] - 9s 740ms/step - loss: 0.8575 - accuracy: 0.7315 - val_loss: 1.2287 - val_accuracy: 0.5294\n",
            "Epoch 6/25\n",
            "12/12 [==============================] - 9s 738ms/step - loss: 0.9017 - accuracy: 0.6968 - val_loss: 1.2307 - val_accuracy: 0.5294\n",
            "Epoch 7/25\n",
            "12/12 [==============================] - 9s 736ms/step - loss: 0.9099 - accuracy: 0.7068 - val_loss: 1.2385 - val_accuracy: 0.5294\n",
            "Epoch 8/25\n",
            "12/12 [==============================] - 9s 741ms/step - loss: 0.7916 - accuracy: 0.7596 - val_loss: 1.2340 - val_accuracy: 0.5294\n",
            "Epoch 9/25\n",
            "12/12 [==============================] - 9s 740ms/step - loss: 0.7852 - accuracy: 0.7558 - val_loss: 1.2294 - val_accuracy: 0.5294\n",
            "Epoch 10/25\n",
            "12/12 [==============================] - 9s 736ms/step - loss: 0.8093 - accuracy: 0.7402 - val_loss: 1.2470 - val_accuracy: 0.5294\n",
            "Epoch 11/25\n",
            "12/12 [==============================] - 9s 732ms/step - loss: 0.7681 - accuracy: 0.7633 - val_loss: 1.2382 - val_accuracy: 0.5294\n",
            "Epoch 12/25\n",
            "12/12 [==============================] - 9s 725ms/step - loss: 0.8505 - accuracy: 0.7326 - val_loss: 1.2390 - val_accuracy: 0.5294\n",
            "Epoch 13/25\n",
            "12/12 [==============================] - 9s 732ms/step - loss: 0.8247 - accuracy: 0.7326 - val_loss: 1.2545 - val_accuracy: 0.5294\n",
            "Epoch 14/25\n",
            "12/12 [==============================] - 9s 766ms/step - loss: 0.8111 - accuracy: 0.7358 - val_loss: 1.2111 - val_accuracy: 0.5294\n",
            "Epoch 15/25\n",
            "12/12 [==============================] - 9s 738ms/step - loss: 0.7908 - accuracy: 0.7481 - val_loss: 1.2043 - val_accuracy: 0.5294\n",
            "Epoch 16/25\n",
            "12/12 [==============================] - 9s 757ms/step - loss: 0.7830 - accuracy: 0.7445 - val_loss: 1.2145 - val_accuracy: 0.5294\n",
            "Epoch 17/25\n",
            "12/12 [==============================] - 9s 735ms/step - loss: 0.7929 - accuracy: 0.7464 - val_loss: 1.1959 - val_accuracy: 0.5294\n",
            "Epoch 18/25\n",
            "12/12 [==============================] - 9s 727ms/step - loss: 0.7727 - accuracy: 0.7532 - val_loss: 1.1897 - val_accuracy: 0.5294\n",
            "Epoch 19/25\n",
            "12/12 [==============================] - 9s 726ms/step - loss: 0.8521 - accuracy: 0.7165 - val_loss: 1.2065 - val_accuracy: 0.5294\n",
            "Epoch 20/25\n",
            "12/12 [==============================] - 9s 719ms/step - loss: 0.8096 - accuracy: 0.7310 - val_loss: 1.2167 - val_accuracy: 0.5294\n",
            "Epoch 21/25\n",
            "12/12 [==============================] - 9s 723ms/step - loss: 0.7495 - accuracy: 0.7567 - val_loss: 1.1843 - val_accuracy: 0.5294\n",
            "Epoch 22/25\n",
            "12/12 [==============================] - 9s 721ms/step - loss: 0.7828 - accuracy: 0.7462 - val_loss: 1.1961 - val_accuracy: 0.5294\n",
            "Epoch 23/25\n",
            "12/12 [==============================] - 9s 719ms/step - loss: 0.8203 - accuracy: 0.7243 - val_loss: 1.2233 - val_accuracy: 0.5294\n",
            "Epoch 24/25\n",
            "12/12 [==============================] - 9s 763ms/step - loss: 0.8121 - accuracy: 0.7360 - val_loss: 1.2521 - val_accuracy: 0.5294\n",
            "Epoch 25/25\n",
            "12/12 [==============================] - 9s 725ms/step - loss: 0.8275 - accuracy: 0.7253 - val_loss: 1.1878 - val_accuracy: 0.5294\n"
          ],
          "name": "stdout"
        }
      ]
    },
    {
      "cell_type": "code",
      "metadata": {
        "colab": {
          "base_uri": "https://localhost:8080/",
          "height": 530
        },
        "id": "mtskkoZucZ0u",
        "outputId": "42c7019a-4794-440c-b0b0-513f3a490894"
      },
      "source": [
        "plt.plot(r.history['loss'], label='loss')\r\n",
        "plt.legend()"
      ],
      "execution_count": 33,
      "outputs": [
        {
          "output_type": "execute_result",
          "data": {
            "text/plain": [
              "<matplotlib.legend.Legend at 0x7f6d9b277cf8>"
            ]
          },
          "metadata": {
            "tags": []
          },
          "execution_count": 33
        },
        {
          "output_type": "display_data",
          "data": {
            "image/png": "[encoded data removed]",
            "text/plain": [
              "<Figure size 432x288 with 1 Axes>"
            ]
          },
          "metadata": {
            "tags": [],
            "needs_background": "light"
          }
        },
        {
          "output_type": "display_data",
          "data": {
            "image/png": "[encoded data removed]",
            "text/plain": [
              "<Figure size 432x288 with 1 Axes>"
            ]
          },
          "metadata": {
            "tags": [],
            "needs_background": "light"
          }
        }
      ]
    }
  ]
}