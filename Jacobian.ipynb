{
 "cells": [
  {
   "cell_type": "markdown",
   "metadata": {},
   "source": [
    "<font size=\"5\">\n",
    "    \n",
    "   This notebook will be a function that creates a full jacobian from the partial and complex partial jacobians\n",
    "   $$ $$\n",
    "   $$ $$\n",
    "   \n",
    "    \n",
    "$$ J_{k} = [m_{pq} \\bar g_{q} \\delta^{j}_{p}] [pq] = 1...N_{bl}(p<q)     $$\n",
    "\n",
    "$$ $$\n",
    "\n",
    "$$ J_{k}^{*} = [g_{p} m_{pq} \\delta^{j}_{q}] [pq] = 1...N_{bl}(p<q)      $$\n",
    "$$ $$\n",
    "\n",
    "$$ $$\n",
    "\n",
    "The full Jacobian Matrix\n",
    "\n",
    "\\begin{bmatrix}\n",
    "j_k &  j_{k}^*\\\\\n",
    "\\bar j_k^{*} & \\bar j_k\n",
    "\\end{bmatrix}\n",
    "\n",
    "\n",
    "\n",
    "$$ $$\n",
    "\n",
    "where <br>\n",
    "<br>\n",
    "$\\delta_{p}^{j}$ is a way of \n",
    "$[pq]$ represents the row by representing antenna pairs <br>\n",
    "g represents the gain  <br>\n",
    "m is the sky coherency <br>\n",
    "\n",
    "\n",
    "</font>\n",
    "\n",
    "\n",
    "\n",
    "\n"
   ]
  },
  {
   "cell_type": "code",
   "execution_count": 1,
   "metadata": {},
   "outputs": [],
   "source": [
    "import numpy as np\n",
    "import itertools"
   ]
  },
  {
   "cell_type": "code",
   "execution_count": 2,
   "metadata": {},
   "outputs": [],
   "source": [
    "#Partial Jacobian is in the shape of N_ant and N_bl, where baseeline is calculated above\n",
    "\n",
    "def jacobian(n_ant):\n",
    "    \"\"\" This function will create a simple Jacobian filled with 1's at non-zero places\"\"\"\n",
    "    \n",
    "    ant_pair = list(itertools.combinations(range(1,n_ant + 1) , 2)) #antenna pairs in array in (ant1,ant2) format\n",
    "    baselines = int(n_ant * ((n_ant - 1) / 2)) #number of baselines or pairs\n",
    "    jacobian = np.zeros((baselines,n_ant)) #partial jacobian\n",
    "    cjacobian = np.zeros((baselines,n_ant)) #partial complex jacobian\n",
    "    for i in range(baselines): #loop through baselines\n",
    "    \n",
    "        jacobian[i][ant_pair[i][0]-1] = 1 #regular jacobian\n",
    "        cjacobian[i][ant_pair[i][1]-1] = 1 #complex jacobian\n",
    "        \n",
    "        conjacobian = np.conjugate(jacobian.T)\n",
    "        concjacobian = np.conjugate(cjacobian.T)\n",
    "        \n",
    "        \n",
    "        \n",
    "    print('There are {} antennas, {} baselines in this array'.format(n_ant,baselines))\n",
    "   \n",
    "    return jacobian,cjacobian\n",
    "\n",
    "#lets take these two partial jacobians and create full complex jacobian\n",
    "def full_jacobian(n_ant):\n",
    "    \"\"\" This function takes partial jacobians and reflects about updown\n",
    "    and left right direction to get the 'bottom part' of full jacobian\n",
    "    matrix.\"\"\"\n",
    "    j1,j2 = jacobian(n_ant)\n",
    "\n",
    "\n",
    "    j3 = np.flipud(np.fliplr(j1))\n",
    "    j4 = np.flipud(np.fliplr(j2))\n",
    "    return np.bmat([[j1,j2],[j3,j4]]) #this is the full jacobian"
   ]
  },
  {
   "cell_type": "code",
   "execution_count": 4,
   "metadata": {
    "scrolled": true
   },
   "outputs": [
    {
     "name": "stdout",
     "output_type": "stream",
     "text": [
      "There are 3 antennas, 3 baselines in this array\n"
     ]
    },
    {
     "data": {
      "text/plain": [
       "matrix([[1., 0., 0., 0., 1., 0.],\n",
       "        [1., 0., 0., 0., 0., 1.],\n",
       "        [0., 1., 0., 0., 0., 1.],\n",
       "        [0., 1., 0., 1., 0., 0.],\n",
       "        [0., 0., 1., 1., 0., 0.],\n",
       "        [0., 0., 1., 0., 1., 0.]])"
      ]
     },
     "execution_count": 4,
     "metadata": {},
     "output_type": "execute_result"
    }
   ],
   "source": [
    "#example of 3 antenna array, as shown in Smirnov and Tasse 2015 Appendix A\n",
    "full_jacobian(3)"
   ]
  }
 ],
 "metadata": {
  "kernelspec": {
   "display_name": "Python 3",
   "language": "python",
   "name": "python3"
  },
  "language_info": {
   "codemirror_mode": {
    "name": "ipython",
    "version": 3
   },
   "file_extension": ".py",
   "mimetype": "text/x-python",
   "name": "python",
   "nbconvert_exporter": "python",
   "pygments_lexer": "ipython3",
   "version": "3.7.3"
  }
 },
 "nbformat": 4,
 "nbformat_minor": 2
}
