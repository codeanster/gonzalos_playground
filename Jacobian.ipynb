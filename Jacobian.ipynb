{
 "cells": [
  {
   "cell_type": "markdown",
   "metadata": {},
   "source": [
    "<font size=\"5\">\n",
    "    \n",
    "   This notebook will be a function that plots the partial and complex partial Jacobian Matrix\n",
    "   $$ $$\n",
    "   $$ $$\n",
    "   \n",
    "    \n",
    "$$ J_{k} = [m_{pq} \\bar g_{q} \\delta^{j}_{p}] [pq] = 1...N_{bl}(p<q)     $$\n",
    "\n",
    "$$ $$\n",
    "\n",
    "$$ J_{k}^{*} = [g_{p} m_{pq} \\delta^{j}_{q}] [pq] = 1...N_{bl}(p<q)      $$\n",
    "$$ $$\n",
    "\n",
    "where <br>\n",
    "<br>\n",
    "$\\delta_{p}^{j}$ is a way of \n",
    "$[pq]$ represents the row <br>\n",
    "g represents the gain  <br>\n",
    "m is the sky coherency <br>\n",
    "\n",
    "\n",
    "</font>\n",
    "\n",
    "\n",
    "\n",
    "\n"
   ]
  },
  {
   "cell_type": "code",
   "execution_count": 1,
   "metadata": {},
   "outputs": [],
   "source": [
    "import numpy as np\n",
    "import matplotlib.pyplot as plt\n",
    "from astropy.io import fits\n",
    "from hera_cal.io import HERAData, HERACal\n",
    "import itertools\n",
    "from IPython.display import clear_output"
   ]
  },
  {
   "cell_type": "code",
   "execution_count": 3,
   "metadata": {},
   "outputs": [],
   "source": [
    "#is there visibility data i can get from HERA?\n",
    "#probably in the UVFITS file for sure\n",
    "\n",
    "#If i can get visibilties in antenna numbers, I think I could create some partial Jacobians at the very least\n",
    "file = '/lustre/aoc/projects/hera/H1C_IDR2/2458102/zen.2458102.44615.HH.uvh5'\n",
    "hd = HERAData(file)"
   ]
  },
  {
   "cell_type": "code",
   "execution_count": 69,
   "metadata": {},
   "outputs": [
    {
     "name": "stdout",
     "output_type": "stream",
     "text": [
      "number of baselines based on pyuvdata: 1378\n",
      "number of baselines based on n_ants: 1326.0\n",
      "number of antennas is 52\n"
     ]
    },
    {
     "data": {
      "text/plain": [
       "(1326, 52)"
      ]
     },
     "execution_count": 69,
     "metadata": {},
     "output_type": "execute_result"
    }
   ],
   "source": [
    "n_ant = len(hd.antenna_numbers) #number of antennas\n",
    "\n",
    "baselines = n_ant * ( (n_ant - 1) / (2)  )  #also thought of as 'visibilities?'\n",
    "print(\"number of baselines based on pyuvdata: {}\".format(hd.Nbls))\n",
    "print('number of baselines based on n_ants: {}'.format(baselines))\n",
    "print('number of antennas is {}'.format(n_ant))\n"
   ]
  },
  {
   "cell_type": "code",
   "execution_count": 181,
   "metadata": {},
   "outputs": [],
   "source": [
    "#Partial Jacobian is in the shape of N_ant and N_bl, where baseeline is calculated above\n",
    "\n",
    "def jacobian(n_ant):\n",
    "    \"\"\" This function will create a simple Jacobian filled with 1's at non-zero places\"\"\"\n",
    "    \n",
    "    ant_pair = list(itertools.combinations(range(1,n_ant + 1) , 2)) #antenna pairs in array in (ant1,ant2) format\n",
    "    baselines = int(n_ant * ((n_ant - 1) / 2)) #number of baselines or pairs\n",
    "    jacobian = np.zeros((baselines,n_ant)) #partial jacobian\n",
    "    cjacobian = np.zeros((baselines,n_ant)) #partial complex jacobian\n",
    "    for i in range(baselines): #loop through baselines\n",
    "    \n",
    "        jacobian[i][ant_pair[i][0]-1] = 1 #regular jacobian\n",
    "        cjacobian[i][ant_pair[i][1]-1] = 1 #complex jacobian\n",
    "        \n",
    "        conjacobian = np.conjugate(jacobian.T)\n",
    "        concjacobian = np.conjugate(cjacobian.T)\n",
    "        \n",
    "    print('There are {} antennas, {} baselines in this array'.format(n_ant,baselines))\n",
    "    print(jacobian)\n",
    "    print(cjacobian)\n",
    "    print(conjacobian)\n",
    "    print(concjacobian)"
   ]
  },
  {
   "cell_type": "code",
   "execution_count": 182,
   "metadata": {
    "scrolled": true
   },
   "outputs": [
    {
     "name": "stdout",
     "output_type": "stream",
     "text": [
      "There are 3 antennas, 3 baselines in this array\n",
      "[[1. 0. 0.]\n",
      " [1. 0. 0.]\n",
      " [0. 1. 0.]]\n",
      "[[0. 1. 0.]\n",
      " [0. 0. 1.]\n",
      " [0. 0. 1.]]\n",
      "[[1. 1. 0.]\n",
      " [0. 0. 1.]\n",
      " [0. 0. 0.]]\n",
      "[[0. 0. 0.]\n",
      " [1. 0. 0.]\n",
      " [0. 1. 1.]]\n"
     ]
    }
   ],
   "source": [
    "jacobian(3)"
   ]
  },
  {
   "cell_type": "code",
   "execution_count": null,
   "metadata": {},
   "outputs": [],
   "source": []
  }
 ],
 "metadata": {
  "kernelspec": {
   "display_name": "Python 3",
   "language": "python",
   "name": "python3"
  },
  "language_info": {
   "codemirror_mode": {
    "name": "ipython",
    "version": 3
   },
   "file_extension": ".py",
   "mimetype": "text/x-python",
   "name": "python",
   "nbconvert_exporter": "python",
   "pygments_lexer": "ipython3",
   "version": "3.6.9"
  }
 },
 "nbformat": 4,
 "nbformat_minor": 2
}
