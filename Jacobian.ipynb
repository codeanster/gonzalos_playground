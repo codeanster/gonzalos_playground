{
 "cells": [
  {
   "cell_type": "markdown",
   "metadata": {},
   "source": [
    "<font size=\"5\">\n",
    "    \n",
    "   This notebook will be a function that plots the partial and complex partial Jacobian Matrix\n",
    "   $$ $$\n",
    "   $$ $$\n",
    "   \n",
    "    \n",
    "$$ J_{k} = [m_{pq} \\bar g_{q} \\delta^{j}_{p}] [pq] = 1...N_{bl}(p<q)     $$\n",
    "\n",
    "$$ $$\n",
    "\n",
    "$$ J_{k}^{*} = [g_{p} m_{pq} \\delta^{j}_{q}] [pq] = 1...N_{bl}(p<q)      $$\n",
    "$$ $$\n",
    "\n",
    "where <br>\n",
    "<br>\n",
    "$\\delta_{p}^{j}$ is a way of \n",
    "$[pq]$ represents the row <br>\n",
    "g represents the gain  <br>\n",
    "m is the sky coherency <br>\n",
    "\n",
    "\n",
    "</font>\n",
    "\n",
    "\n",
    "\n",
    "\n"
   ]
  },
  {
   "cell_type": "code",
   "execution_count": 22,
   "metadata": {},
   "outputs": [],
   "source": [
    "import numpy as np\n",
    "import matplotlib.pyplot as plt\n",
    "from astropy.io import fits\n",
    "from pyuvdata import UVData\n",
    "from hera_cal.io import HERAData"
   ]
  },
  {
   "cell_type": "code",
   "execution_count": 74,
   "metadata": {},
   "outputs": [
    {
     "ename": "ModuleNotFoundError",
     "evalue": "No module named 'casacore'",
     "output_type": "error",
     "traceback": [
      "\u001b[0;31m---------------------------------------------------------------------------\u001b[0m",
      "\u001b[0;31mModuleNotFoundError\u001b[0m                       Traceback (most recent call last)",
      "\u001b[0;32m<ipython-input-74-3ac4d516513f>\u001b[0m in \u001b[0;36m<module>\u001b[0;34m\u001b[0m\n\u001b[1;32m      6\u001b[0m \u001b[0;34m\u001b[0m\u001b[0m\n\u001b[1;32m      7\u001b[0m \u001b[0mUV\u001b[0m \u001b[0;34m=\u001b[0m \u001b[0mUVData\u001b[0m\u001b[0;34m(\u001b[0m\u001b[0;34m)\u001b[0m\u001b[0;34m\u001b[0m\u001b[0;34m\u001b[0m\u001b[0m\n\u001b[0;32m----> 8\u001b[0;31m \u001b[0mhd\u001b[0m \u001b[0;34m=\u001b[0m \u001b[0mUV\u001b[0m\u001b[0;34m.\u001b[0m\u001b[0mread\u001b[0m\u001b[0;34m(\u001b[0m\u001b[0mpath\u001b[0m\u001b[0;34m)\u001b[0m\u001b[0;34m\u001b[0m\u001b[0;34m\u001b[0m\u001b[0m\n\u001b[0m",
      "\u001b[0;32m~/anaconda3/envs/hera/lib/python3.7/site-packages/pyuvdata/uvdata.py\u001b[0m in \u001b[0;36mread\u001b[0;34m(self, filename, axis, file_type, antenna_nums, antenna_names, ant_str, bls, frequencies, freq_chans, times, polarizations, blt_inds, time_range, keep_all_metadata, read_metadata, read_data, phase_type, correct_lat_lon, use_model, data_column, pol_order, data_array_dtype, run_check, check_extra, run_check_acceptability)\u001b[0m\n\u001b[1;32m   2765\u001b[0m             self.read_ms(filename, run_check=run_check, check_extra=check_extra,\n\u001b[1;32m   2766\u001b[0m                          \u001b[0mrun_check_acceptability\u001b[0m\u001b[0;34m=\u001b[0m\u001b[0mrun_check_acceptability\u001b[0m\u001b[0;34m,\u001b[0m\u001b[0;34m\u001b[0m\u001b[0;34m\u001b[0m\u001b[0m\n\u001b[0;32m-> 2767\u001b[0;31m                          data_column=data_column, pol_order=pol_order, axis=axis)\n\u001b[0m\u001b[1;32m   2768\u001b[0m \u001b[0;34m\u001b[0m\u001b[0m\n\u001b[1;32m   2769\u001b[0m             \u001b[0;32mif\u001b[0m \u001b[0mselect\u001b[0m\u001b[0;34m:\u001b[0m\u001b[0;34m\u001b[0m\u001b[0;34m\u001b[0m\u001b[0m\n",
      "\u001b[0;32m~/anaconda3/envs/hera/lib/python3.7/site-packages/pyuvdata/uvdata.py\u001b[0m in \u001b[0;36mread_ms\u001b[0;34m(self, filepath, axis, run_check, check_extra, run_check_acceptability, data_column, pol_order)\u001b[0m\n\u001b[1;32m   2043\u001b[0m                 \u001b[0;34m'CASA'\u001b[0m \u001b[0;32mor\u001b[0m \u001b[0;34m'AIPS'\u001b[0m \u001b[0mconventions\u001b[0m\u001b[0;34m.\u001b[0m\u001b[0;34m\u001b[0m\u001b[0;34m\u001b[0m\u001b[0m\n\u001b[1;32m   2044\u001b[0m         \"\"\"\n\u001b[0;32m-> 2045\u001b[0;31m         \u001b[0;32mfrom\u001b[0m \u001b[0;34m.\u001b[0m \u001b[0;32mimport\u001b[0m \u001b[0mms\u001b[0m\u001b[0;34m\u001b[0m\u001b[0;34m\u001b[0m\u001b[0m\n\u001b[0m\u001b[1;32m   2046\u001b[0m \u001b[0;34m\u001b[0m\u001b[0m\n\u001b[1;32m   2047\u001b[0m         \u001b[0;32mif\u001b[0m \u001b[0misinstance\u001b[0m\u001b[0;34m(\u001b[0m\u001b[0mfilepath\u001b[0m\u001b[0;34m,\u001b[0m \u001b[0;34m(\u001b[0m\u001b[0mlist\u001b[0m\u001b[0;34m,\u001b[0m \u001b[0mtuple\u001b[0m\u001b[0;34m)\u001b[0m\u001b[0;34m)\u001b[0m\u001b[0;34m:\u001b[0m\u001b[0;34m\u001b[0m\u001b[0;34m\u001b[0m\u001b[0m\n",
      "\u001b[0;32m~/anaconda3/envs/hera/lib/python3.7/site-packages/pyuvdata/ms.py\u001b[0m in \u001b[0;36m<module>\u001b[0;34m\u001b[0m\n\u001b[1;32m     24\u001b[0m     \u001b[0;32mimport\u001b[0m \u001b[0mcasacore\u001b[0m\u001b[0;34m.\u001b[0m\u001b[0mtables\u001b[0m \u001b[0;32mas\u001b[0m \u001b[0mtables\u001b[0m\u001b[0;34m\u001b[0m\u001b[0;34m\u001b[0m\u001b[0m\n\u001b[1;32m     25\u001b[0m \u001b[0;32mexcept\u001b[0m \u001b[0mImportError\u001b[0m\u001b[0;34m:\u001b[0m  \u001b[0;31m# pragma: no cover\u001b[0m\u001b[0;34m\u001b[0m\u001b[0;34m\u001b[0m\u001b[0m\n\u001b[0;32m---> 26\u001b[0;31m     uvutils._reraise_context('casacore is not installed but is required for '\n\u001b[0m\u001b[1;32m     27\u001b[0m                              'measurement set functionality')\n\u001b[1;32m     28\u001b[0m \u001b[0;34m\u001b[0m\u001b[0m\n",
      "\u001b[0;32m~/anaconda3/envs/hera/lib/python3.7/site-packages/pyuvdata/ms.py\u001b[0m in \u001b[0;36m<module>\u001b[0;34m\u001b[0m\n\u001b[1;32m     22\u001b[0m \u001b[0;34m\u001b[0m\u001b[0m\n\u001b[1;32m     23\u001b[0m \u001b[0;32mtry\u001b[0m\u001b[0;34m:\u001b[0m\u001b[0;34m\u001b[0m\u001b[0;34m\u001b[0m\u001b[0m\n\u001b[0;32m---> 24\u001b[0;31m     \u001b[0;32mimport\u001b[0m \u001b[0mcasacore\u001b[0m\u001b[0;34m.\u001b[0m\u001b[0mtables\u001b[0m \u001b[0;32mas\u001b[0m \u001b[0mtables\u001b[0m\u001b[0;34m\u001b[0m\u001b[0;34m\u001b[0m\u001b[0m\n\u001b[0m\u001b[1;32m     25\u001b[0m \u001b[0;32mexcept\u001b[0m \u001b[0mImportError\u001b[0m\u001b[0;34m:\u001b[0m  \u001b[0;31m# pragma: no cover\u001b[0m\u001b[0;34m\u001b[0m\u001b[0;34m\u001b[0m\u001b[0m\n\u001b[1;32m     26\u001b[0m     uvutils._reraise_context('casacore is not installed but is required for '\n",
      "\u001b[0;31mModuleNotFoundError\u001b[0m: No module named 'casacore'"
     ]
    }
   ],
   "source": [
    "#is there visibility data i can get from HERA?\n",
    "#probably in the UVFITS file for sure\n",
    "\n",
    "#If i can get visibilties in antenna numbers, I think I could create some partial Jacobians at the very least\n",
    "path = '/home/gonzalo/Desktop/data/zen.2458116.24482.xx.HH.uvOCR.ms'\n",
    "\n",
    "UV = UVData()\n",
    "hd = UV.read(path)"
   ]
  },
  {
   "cell_type": "code",
   "execution_count": 38,
   "metadata": {},
   "outputs": [
    {
     "data": {
      "text/plain": [
       "(52, 1326)"
      ]
     },
     "execution_count": 38,
     "metadata": {},
     "output_type": "execute_result"
    }
   ],
   "source": [
    "n_ant = len(hd.ants)#number of antennas\n",
    "\n",
    "baselines = (n_ant ** 2 - n_ant) / (2) #also thought of as 'visibilities?' Also assuming one polarization only\n",
    "\n",
    "\\\n",
    "#Partial Jacobian is in the shape of N_ant and N_bl, where baseeline is calculated above\n",
    "empty_jacob = np.zeros((n_ant,int(baselines))) #empty array with shape of Jacobian\n",
    "empty_jacob.shape\n",
    "#next it would make sense to fill each partial jacobian"
   ]
  },
  {
   "cell_type": "code",
   "execution_count": null,
   "metadata": {},
   "outputs": [],
   "source": []
  },
  {
   "cell_type": "code",
   "execution_count": 30,
   "metadata": {},
   "outputs": [],
   "source": []
  },
  {
   "cell_type": "code",
   "execution_count": 71,
   "metadata": {},
   "outputs": [
    {
     "name": "stdout",
     "output_type": "stream",
     "text": [
      "[37 51 65 37 51 65 37 51 65 37 51 65 37 51 65 37 51 65 37 51 65 37 51 65\n",
      " 37 51 65 37 51 65 37 51 65 37 51 65 37 51 65 37 51 65 37 51 65 37 51 65\n",
      " 37 51 65 37 51 65 37 51 65 37 51 65 37 51 65 37 51 65 37 51 65 37 51 65\n",
      " 37 51 65 37 51 65 37 51 65 37 51 65 37 51 65 37 51 65 37 51 65 37 51 65\n",
      " 37 51 65 37 51 65 37 51 65 37 51 65 37 51 65 37 51 65 37 51 65 37 51 65\n",
      " 37 51 65 37 51 65 37 51 65 37 51 65 37 51 65 37 51 65 37 51 65 37 51 65\n",
      " 37 51 65 37 51 65 37 51 65 37 51 65 37 51 65 37 51 65 37 51 65 37 51 65\n",
      " 37 51 65 37 51 65 37 51 65 37 51 65]\n"
     ]
    },
    {
     "data": {
      "text/plain": [
       "(2, 180)"
      ]
     },
     "execution_count": 71,
     "metadata": {},
     "output_type": "execute_result"
    }
   ],
   "source": [
    "p = hd.ant_1_array\n",
    "q = hd.ant_2_array\n",
    "print(p)\n",
    "#noob way\n",
    "#new array will be in shape of 2 X N_ant / 2 \n",
    "\n",
    "\n",
    "trying = np.zeros((2,len(p)))\n",
    "trying.shape"
   ]
  },
  {
   "cell_type": "code",
   "execution_count": null,
   "metadata": {},
   "outputs": [],
   "source": []
  }
 ],
 "metadata": {
  "kernelspec": {
   "display_name": "Python 3",
   "language": "python",
   "name": "python3"
  },
  "language_info": {
   "codemirror_mode": {
    "name": "ipython",
    "version": 3
   },
   "file_extension": ".py",
   "mimetype": "text/x-python",
   "name": "python",
   "nbconvert_exporter": "python",
   "pygments_lexer": "ipython3",
   "version": "3.7.3"
  }
 },
 "nbformat": 4,
 "nbformat_minor": 2
}
