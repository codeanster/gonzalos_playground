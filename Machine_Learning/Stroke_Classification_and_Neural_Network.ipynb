{
  "nbformat": 4,
  "nbformat_minor": 0,
  "metadata": {
    "colab": {
      "name": "Stroke_Classification_and_Neural_Network.ipynb",
      "provenance": [],
      "collapsed_sections": [],
      "authorship_tag": "ABX9TyPVgQto9pX9Krk48EPvkGHT",
      "include_colab_link": true
    },
    "kernelspec": {
      "name": "python3",
      "display_name": "Python 3"
    },
    "accelerator": "GPU"
  },
  "cells": [
    {
      "cell_type": "markdown",
      "metadata": {
        "id": "view-in-github",
        "colab_type": "text"
      },
      "source": [
        "<a href=\"https://colab.research.google.com/github/codeanster/gonzalos_playground/blob/master/Machine_Learning/Stroke_Classification_and_Neural_Network.ipynb\" target=\"_parent\"><img src=\"https://colab.research.google.com/assets/colab-badge.svg\" alt=\"Open In Colab\"/></a>"
      ]
    },
    {
      "cell_type": "code",
      "metadata": {
        "id": "1KuNS9L4vgaO"
      },
      "source": [
        "from sklearn.model_selection import train_test_split\r\n",
        "from sklearn.tree import DecisionTreeClassifier \r\n",
        "import pandas as pd\r\n",
        "from sklearn import preprocessing\r\n",
        "from sklearn.metrics import confusion_matrix, accuracy_score\r\n",
        "import numpy as np\r\n",
        "import matplotlib.pyplot as plt\r\n",
        "from sklearn.preprocessing import LabelEncoder\r\n",
        "from xgboost import XGBClassifier\r\n",
        "from sklearn.model_selection import RepeatedStratifiedKFold\r\n",
        "from sklearn.model_selection import cross_val_score\r\n",
        "import seaborn as sns\r\n",
        "from sklearn.ensemble import RandomForestClassifier\r\n",
        "import tensorflow as tf\r\n",
        "from sklearn.neighbors import KNeighborsClassifier\r\n"
      ],
      "execution_count": 8,
      "outputs": []
    },
    {
      "cell_type": "code",
      "metadata": {
        "id": "4CuR-sgBvu7s"
      },
      "source": [
        "df = pd.read_csv('/content/healthcare-dataset-stroke-data.csv')\r\n",
        "df = df.dropna()\r\n",
        "df = df.drop(columns=['id'])\r\n",
        "keyes = df.keys()\r\n",
        "cols = keyes[[0,4,5,6,9]]\r\n",
        "df[cols] = df[cols].apply(LabelEncoder().fit_transform)"
      ],
      "execution_count": 9,
      "outputs": []
    },
    {
      "cell_type": "code",
      "metadata": {
        "id": "m-3qha2YzkD1"
      },
      "source": [
        "# Encode labels of multiple columns at once\r\n",
        "le = LabelEncoder()\r\n",
        "\r\n",
        "df[cols]= df[cols].apply(LabelEncoder().fit_transform)\r\n",
        "\r\n",
        "X = df.iloc[:, 1:-1].values\r\n",
        "y = df.iloc[:, -1].values\r\n",
        "\r\n",
        "#scale the data\r\n",
        "from sklearn.preprocessing import StandardScaler\r\n",
        "sc = StandardScaler()\r\n",
        "X = sc.fit_transform(X) \r\n",
        "#= sc.transform(X_test)\r\n",
        "\r\n",
        "X_train, X_test, y_train,y_test = train_test_split(X,y,random_state=42)"
      ],
      "execution_count": 10,
      "outputs": []
    },
    {
      "cell_type": "code",
      "metadata": {
        "colab": {
          "base_uri": "https://localhost:8080/",
          "height": 433
        },
        "id": "nxhaFAJm0t_5",
        "outputId": "515bbaca-fcbf-4c6b-9b51-689194fe700f"
      },
      "source": [
        "#for decision tree\r\n",
        "classifier = DecisionTreeClassifier(max_depth = 2).fit(X_train, y_train) \r\n",
        "dtree_predictions = classifier.predict(X_test) \r\n",
        "cm = confusion_matrix(y_test, dtree_predictions) \r\n",
        "\r\n",
        "importance = classifier.feature_importances_\r\n",
        "# summarize feature importance\r\n",
        "for i,v in enumerate(importance):\r\n",
        " print('Feature: %0d, Score: %.5f' % (i,v))\r\n",
        "# plot feature importance\r\n",
        "plt.bar([x for x in range(len(importance))], importance)\r\n",
        "plt.show()\r\n",
        "accuracy_score(y_test, dtree_predictions)"
      ],
      "execution_count": 11,
      "outputs": [
        {
          "output_type": "stream",
          "text": [
            "Feature: 0, Score: 0.82114\n",
            "Feature: 1, Score: 0.00000\n",
            "Feature: 2, Score: 0.00000\n",
            "Feature: 3, Score: 0.00000\n",
            "Feature: 4, Score: 0.00000\n",
            "Feature: 5, Score: 0.00000\n",
            "Feature: 6, Score: 0.17886\n",
            "Feature: 7, Score: 0.00000\n",
            "Feature: 8, Score: 0.00000\n"
          ],
          "name": "stdout"
        },
        {
          "output_type": "display_data",
          "data": {
            "image/png": "[encoded data removed]",
            "text/plain": [
              "<Figure size 432x288 with 1 Axes>"
            ]
          },
          "metadata": {
            "tags": [],
            "needs_background": "light"
          }
        },
        {
          "output_type": "execute_result",
          "data": {
            "text/plain": [
              "0.9486970684039088"
            ]
          },
          "metadata": {
            "tags": []
          },
          "execution_count": 11
        }
      ]
    },
    {
      "cell_type": "code",
      "metadata": {
        "colab": {
          "base_uri": "https://localhost:8080/",
          "height": 435
        },
        "id": "YYM_zuGe1114",
        "outputId": "c51cf29b-692f-460e-a936-d46e1e4aad22"
      },
      "source": [
        "# for Random tree\r\n",
        "classifier = RandomForestClassifier(n_estimators = 10, criterion = 'entropy', random_state = 0)\r\n",
        "classifier.fit(X_train, y_train)\r\n",
        "\r\n",
        "y_pred = classifier.predict(X_test)\r\n",
        "\r\n",
        "cm = confusion_matrix(y_test, y_pred) \r\n",
        "print(accuracy_score(y_test, y_pred))\r\n",
        "\r\n",
        "importance = classifier.feature_importances_\r\n",
        "# summarize feature importance\r\n",
        "# plot feature importance\r\n",
        "plt.bar([x for x in range(len(importance))], importance)\r\n",
        "plt.show()\r\n",
        "\r\n",
        "\r\n",
        "for i,v in enumerate(importance):\r\n",
        " print('Feature: %0d, Score: %.5f' % (i,v))"
      ],
      "execution_count": 12,
      "outputs": [
        {
          "output_type": "stream",
          "text": [
            "0.9478827361563518\n"
          ],
          "name": "stdout"
        },
        {
          "output_type": "display_data",
          "data": {
            "image/png": "[encoded data removed]",
            "text/plain": [
              "<Figure size 432x288 with 1 Axes>"
            ]
          },
          "metadata": {
            "tags": [],
            "needs_background": "light"
          }
        },
        {
          "output_type": "stream",
          "text": [
            "Feature: 0, Score: 0.28894\n",
            "Feature: 1, Score: 0.02404\n",
            "Feature: 2, Score: 0.02114\n",
            "Feature: 3, Score: 0.02421\n",
            "Feature: 4, Score: 0.05695\n",
            "Feature: 5, Score: 0.02853\n",
            "Feature: 6, Score: 0.27321\n",
            "Feature: 7, Score: 0.22119\n",
            "Feature: 8, Score: 0.06179\n"
          ],
          "name": "stdout"
        }
      ]
    },
    {
      "cell_type": "code",
      "metadata": {
        "colab": {
          "base_uri": "https://localhost:8080/",
          "height": 282
        },
        "id": "SiQmer0g2aW7",
        "outputId": "c24cdc41-d3d8-4207-fdae-c3e42827bba0"
      },
      "source": [
        "# define the model\r\n",
        "model = XGBClassifier()\r\n",
        "# evaluate the model\r\n",
        "cv = RepeatedStratifiedKFold(n_splits=10, n_repeats=3, random_state=1)\r\n",
        "n_scores = cross_val_score(model, X, y, scoring='accuracy', cv=cv, n_jobs=-1)\r\n",
        "# report performance\r\n",
        "print('Accuracy: %.3f (%.3f)' % (np.mean(n_scores), np.std(n_scores)))\r\n",
        "\r\n",
        "model.fit(X_train,y_train)\r\n",
        "importance = model.feature_importances_\r\n",
        "# summarize feature importance\r\n",
        "# plot feature importance\r\n",
        "plt.bar([x for x in range(len(importance))], importance)\r\n",
        "plt.show()"
      ],
      "execution_count": 13,
      "outputs": [
        {
          "output_type": "stream",
          "text": [
            "Accuracy: 0.957 (0.001)\n"
          ],
          "name": "stdout"
        },
        {
          "output_type": "display_data",
          "data": {
            "image/png": "[encoded data removed]",
            "text/plain": [
              "<Figure size 432x288 with 1 Axes>"
            ]
          },
          "metadata": {
            "tags": [],
            "needs_background": "light"
          }
        }
      ]
    },
    {
      "cell_type": "code",
      "metadata": {
        "colab": {
          "base_uri": "https://localhost:8080/"
        },
        "id": "hi7kean_AnVQ",
        "outputId": "59d7c05f-8c7b-4772-eaab-4385eb707786"
      },
      "source": [
        "#for k nearest neighbors\r\n",
        "classifier = KNeighborsClassifier(n_neighbors = 5, metric = 'minkowski', p = 2)\r\n",
        "classifier.fit(X_train, y_train)\r\n",
        "\r\n",
        "y_pred = classifier.predict(X_test)\r\n",
        "\r\n",
        "cm = confusion_matrix(y_test, y_pred) \r\n",
        "accuracy_score(y_test, y_pred)"
      ],
      "execution_count": 14,
      "outputs": [
        {
          "output_type": "execute_result",
          "data": {
            "text/plain": [
              "0.9470684039087948"
            ]
          },
          "metadata": {
            "tags": []
          },
          "execution_count": 14
        }
      ]
    },
    {
      "cell_type": "code",
      "metadata": {
        "colab": {
          "base_uri": "https://localhost:8080/",
          "height": 352
        },
        "id": "Bs2uv7-WAoEb",
        "outputId": "ce17adde-d7ba-4e27-a488-8442770a2324"
      },
      "source": [
        "#create tensorflow model of ann\r\n",
        "model = tf.keras.models.Sequential([\r\n",
        "  tf.keras.layers.Dense(256,input_shape = (X_train.shape[0],X_train.shape[1]),activation='relu'),\r\n",
        "  tf.keras.layers.Dense(128,input_shape = (X_train.shape[0],X_train.shape[1]),activation='relu'),\r\n",
        "  tf.keras.layers.Dense(1,activation='sigmoid')\r\n",
        "])\r\n",
        "\r\n",
        "\r\n",
        "\r\n",
        "#Compile and fit\r\n",
        "opt = tf.keras.optimizers.SGD(0.0001)\r\n",
        "model.compile(optimizer=opt,loss = 'binary_crossentropy',metrics=['accuracy'])\r\n",
        "r = model.fit(X_train,y_train, validation_data = (X_test, y_test),batch_size = 32, epochs=75,verbose=0)\r\n",
        "\r\n",
        "plt.plot(r.history['loss'], label='loss')\r\n",
        "plt.plot(r.history['accuracy'], label='acc')\r\n",
        "plt.plot(r.history['val_accuracy'],label='val acc')\r\n",
        "plt.plot(r.history['val_loss'],label='val loss')\r\n",
        "plt.legend()\r\n",
        "print(r.history['accuracy'][-1],r.history['val_accuracy'][-1])"
      ],
      "execution_count": 20,
      "outputs": [
        {
          "output_type": "stream",
          "text": [
            "WARNING:tensorflow:Model was constructed with shape (None, 3681, 9) for input KerasTensor(type_spec=TensorSpec(shape=(None, 3681, 9), dtype=tf.float32, name='dense_8_input'), name='dense_8_input', description=\"created by layer 'dense_8_input'\"), but it was called on an input with incompatible shape (None, 9).\n",
            "WARNING:tensorflow:Model was constructed with shape (None, 3681, 9) for input KerasTensor(type_spec=TensorSpec(shape=(None, 3681, 9), dtype=tf.float32, name='dense_8_input'), name='dense_8_input', description=\"created by layer 'dense_8_input'\"), but it was called on an input with incompatible shape (None, 9).\n",
            "WARNING:tensorflow:Model was constructed with shape (None, 3681, 9) for input KerasTensor(type_spec=TensorSpec(shape=(None, 3681, 9), dtype=tf.float32, name='dense_8_input'), name='dense_8_input', description=\"created by layer 'dense_8_input'\"), but it was called on an input with incompatible shape (None, 9).\n",
            "0.9603368639945984 0.9486970901489258\n"
          ],
          "name": "stdout"
        },
        {
          "output_type": "display_data",
          "data": {
            "image/png": "[encoded data removed]",
            "text/plain": [
              "<Figure size 432x288 with 1 Axes>"
            ]
          },
          "metadata": {
            "tags": [],
            "needs_background": "light"
          }
        }
      ]
    }
  ]
}